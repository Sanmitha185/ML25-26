{
  "nbformat": 4,
  "nbformat_minor": 0,
  "metadata": {
    "colab": {
      "provenance": []
    },
    "kernelspec": {
      "name": "python3",
      "display_name": "Python 3"
    },
    "language_info": {
      "name": "python"
    }
  },
  "cells": [
    {
      "cell_type": "code",
      "source": [
        "def mcp_and(x1, x2):\n",
        "    w1, w2 = 1, 1\n",
        "    theta = 2\n",
        "    weighted_sum = w1 * x1 + w2 * x2\n",
        "    output = 1 if weighted_sum >= theta else 0\n",
        "    return output\n",
        "for x1 in [0, 1]:\n",
        "    for x2 in [0, 1]:\n",
        "        print(f\"AND({x1}, {x2}) = {mcp_and(x1, x2)}\")"
      ],
      "metadata": {
        "id": "SP-amFObi-Ne",
        "colab": {
          "base_uri": "https://localhost:8080/"
        },
        "outputId": "1049fda4-471c-4a8b-8319-1d42b2413145"
      },
      "execution_count": 4,
      "outputs": [
        {
          "output_type": "stream",
          "name": "stdout",
          "text": [
            "AND(0, 0) = 0\n",
            "AND(0, 1) = 0\n",
            "AND(1, 0) = 0\n",
            "AND(1, 1) = 1\n"
          ]
        }
      ]
    },
    {
      "cell_type": "code",
      "source": [
        "def mcp_or(x1, x2):\n",
        "    w1, w2 = 1, 1\n",
        "    theta = 1\n",
        "    weighted_sum = w1 * x1 + w2 * x2\n",
        "    output = 1 if weighted_sum >= theta else 0\n",
        "    return output\n",
        "for x1 in [0, 1]:\n",
        "    for x2 in [0, 1]:\n",
        "        print(f\"OR({x1}, {x2}) = {mcp_or(x1, x2)}\")"
      ],
      "metadata": {
        "colab": {
          "base_uri": "https://localhost:8080/"
        },
        "id": "g7qLC9uwltlX",
        "outputId": "99f67613-773b-4204-ed0b-206d3e4aed29"
      },
      "execution_count": 5,
      "outputs": [
        {
          "output_type": "stream",
          "name": "stdout",
          "text": [
            "OR(0, 0) = 0\n",
            "OR(0, 1) = 1\n",
            "OR(1, 0) = 1\n",
            "OR(1, 1) = 1\n"
          ]
        }
      ]
    },
    {
      "cell_type": "code",
      "source": [
        "def mcp_xor(x1, x2):\n",
        "    S = x1 + x2\n",
        "    if S >= 1 and S < 2:\n",
        "        return 1\n",
        "    else:\n",
        "        return 0\n",
        "\n",
        "for x1 in [0, 1]:\n",
        "    for x2 in [0, 1]:\n",
        "        print(f\"XOR({x1}, {x2}) = {mcp_xor(x1, x2)}\")\n"
      ],
      "metadata": {
        "colab": {
          "base_uri": "https://localhost:8080/"
        },
        "id": "rdXUvZDFlyOe",
        "outputId": "cc3d3ac3-1517-4bd0-f03d-4eacb228faca"
      },
      "execution_count": 6,
      "outputs": [
        {
          "output_type": "stream",
          "name": "stdout",
          "text": [
            "XOR(0, 0) = 0\n",
            "XOR(0, 1) = 1\n",
            "XOR(1, 0) = 1\n",
            "XOR(1, 1) = 0\n"
          ]
        }
      ]
    }
  ]
}